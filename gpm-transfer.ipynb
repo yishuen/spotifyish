{
 "cells": [
  {
   "cell_type": "markdown",
   "metadata": {},
   "source": [
    "# Transfering Playlists from Google to Spotify\n",
    "\n",
    "This is a mini project to solve the problem to migrating saved music from Google Play Music over to Spotify - salvaging playlists, playlist descriptions and songs.\n",
    "\n",
    "### Set up\n",
    "\n",
    "1. Create an app on the Spotify Developers site to get client_id and client_secret\n",
    "2. Create a `config.py` file with credentials:\n",
    "    * client_id = \n",
    "    * client_secret = \n",
    "    * user = (your user ID)\n",
    "3. Whitelist `http://localhost:8080` under app settings on the Spotify Developers site."
   ]
  },
  {
   "cell_type": "code",
   "execution_count": null,
   "metadata": {},
   "outputs": [],
   "source": [
    "import numpy as np\n",
    "import pandas as pd\n",
    "import os\n",
    "from glob import glob\n",
    "\n",
    "# for spotify API\n",
    "import config\n",
    "import spotipy\n",
    "import spotipy.util as util\n",
    "from spotipy.oauth2 import SpotifyClientCredentials\n",
    "\n",
    "# create an app on the Spotify Developers site to get client_id and client_secret\n",
    "\n",
    "sp = spotipy.Spotify(client_credentials_manager=SpotifyClientCredentials(config.client_id, \n",
    "                                                                         config.client_secret))"
   ]
  },
  {
   "cell_type": "code",
   "execution_count": null,
   "metadata": {},
   "outputs": [],
   "source": [
    "# this is to grant permission for your \"app\" to create playlists\n",
    "\n",
    "scope = 'playlist-modify-private, playlist-modify-public'\n",
    "redirect_uri = \"http://localhost:8080\"\n",
    "token = util.prompt_for_user_token(config.user,\n",
    "                           scope,\n",
    "                           client_id=config.client_id,\n",
    "                           client_secret=config.client_secret,\n",
    "                           redirect_uri=redirect_uri)\n",
    "\n",
    "# when you run this, your browser will launch and have you authorize the app!"
   ]
  },
  {
   "cell_type": "markdown",
   "metadata": {},
   "source": [
    "# Song Data from Google Play Music\n",
    "\n",
    "### Google Takeout\n",
    "\n",
    "On takeout.google.com, Google lets us download data they have stored on us across their many apps. From Takeout, we can download our saved songs and playlists. \n",
    "\n",
    "### File Structure\n",
    "\n",
    "The downloaded data that we want is in the `Playlists` folder. Within this, each folder is a playlist containing a `Metadata.csv` that stores the playlist description, as well as a `Tracks` folder that has each track as its own csv.\n",
    "\n",
    "**For this I dragged the `Playlists` folder into this directory.**\n",
    "\n",
    "We use the `glob` library to sift through these files."
   ]
  },
  {
   "cell_type": "code",
   "execution_count": null,
   "metadata": {},
   "outputs": [],
   "source": [
    "# Getting the path to each playlist folder\n",
    "playlists = glob(\"./Playlists/*\")"
   ]
  },
  {
   "cell_type": "code",
   "execution_count": null,
   "metadata": {},
   "outputs": [],
   "source": [
    "# Getting the path to each track under each playlist\n",
    "master = {}\n",
    "for p in playlists:\n",
    "    master[p] = glob(p+\"/Tracks/*\")"
   ]
  },
  {
   "cell_type": "markdown",
   "metadata": {},
   "source": [
    "#### Constructing a dataframe to store all our songs"
   ]
  },
  {
   "cell_type": "code",
   "execution_count": null,
   "metadata": {},
   "outputs": [],
   "source": [
    "# Making an empty list, with each element being a dataframe for each playlist\n",
    "playlist_dfs = []\n",
    "\n",
    "for k, v in master.items(): # master: k=path to playlist, v=path to tracks\n",
    "    playlist = k\n",
    "    tracks = []\n",
    "    for track in v:\n",
    "        tracks.append(pd.read_csv(track))\n",
    "    pdf = pd.concat(tracks) # since each track was a csv, concatenating!\n",
    "    pdf['Playlist'] = k\n",
    "    # adding the playlist name as a column so we can eventually put each df together\n",
    "    \n",
    "    playlist_dfs.append(pdf)\n",
    "\n",
    "full = pd.concat(playlist_dfs)"
   ]
  },
  {
   "cell_type": "markdown",
   "metadata": {},
   "source": [
    "### Quick data cleaning"
   ]
  },
  {
   "cell_type": "code",
   "execution_count": null,
   "metadata": {},
   "outputs": [],
   "source": [
    "full = full[full.Removed != 'Yes'] # some songs were removed from the library\n",
    "full = full.drop(['Playlist Index', 'Removed'], axis=1) # drop unnecessary columns\n"
   ]
  },
  {
   "cell_type": "code",
   "execution_count": null,
   "metadata": {},
   "outputs": [],
   "source": [
    "# cleaning up some of the strings\n",
    "\n",
    "full.Title = full['Title'].str.replace(\"&#39;\", \"'\")\n",
    "full.Title = full['Title'].str.replace(\"&amp;\", \"&\")\n",
    "full.Title = full['Title'].str.replace('\\([^)]*\\)', \"\", regex=True)\n",
    "\n",
    "full.Artist = full['Artist'].str.replace(\"&#39;\", \"'\")\n",
    "full.Artist = full['Artist'].str.replace(\"&amp;\", \"&\")\n",
    "full.Artist = full['Artist'].str.replace('\\([^)]*\\)', \"\", regex=True)\n",
    "\n",
    "full.Playlist = full.Playlist.str.replace(\"./Playlists/\", '')"
   ]
  },
  {
   "cell_type": "markdown",
   "metadata": {},
   "source": [
    "# Spotify Lookup\n",
    "\n",
    "Now I'm using songs' title and artist as the search terms to find their Spotify IDs via the Spotify API wrapper, `Spotipy`."
   ]
  },
  {
   "cell_type": "code",
   "execution_count": null,
   "metadata": {},
   "outputs": [],
   "source": [
    "# defining a function I'll then use to .apply() over the dataframe\n",
    "\n",
    "def get_spotify_uri(row):\n",
    "    artist = row['Artist']\n",
    "    track = row['Title']\n",
    "    \n",
    "    query = 'artist: {} track: {}'.format(artist, track)\n",
    "    items = sp.search(q=query, limit=1)['tracks']['items'] # getting the top sesarch result\n",
    "    \n",
    "    # some items have no results!\n",
    "    if items != []:\n",
    "        return items[0]['uri']\n",
    "    else:\n",
    "        return None"
   ]
  },
  {
   "cell_type": "code",
   "execution_count": null,
   "metadata": {},
   "outputs": [],
   "source": [
    "full['spotify_id'] = full.apply(lambda r: get_spotify_uri(r), axis=1)"
   ]
  },
  {
   "cell_type": "markdown",
   "metadata": {},
   "source": [
    "### Missing Songs?\n",
    "\n",
    "I'm keeping track of which songs couldn't be found via the Spotify API -- maybe to tune in the future or to take note of to manually add.\n",
    "\n",
    "    268/2731 songs missing"
   ]
  },
  {
   "cell_type": "code",
   "execution_count": null,
   "metadata": {
    "scrolled": true
   },
   "outputs": [],
   "source": [
    "# how many songs are missing??\n",
    "full.spotify_id.isna().sum()"
   ]
  },
  {
   "cell_type": "code",
   "execution_count": null,
   "metadata": {},
   "outputs": [],
   "source": [
    "# export the missing ones to a csv\n",
    "full[full['spotify_id'].isna()].to_csv('missing.csv', index=False)"
   ]
  },
  {
   "cell_type": "code",
   "execution_count": null,
   "metadata": {},
   "outputs": [],
   "source": [
    "# dropping the songs that have no Spotify ID\n",
    "full = full.dropna(subset=['spotify_id'])"
   ]
  },
  {
   "cell_type": "code",
   "execution_count": null,
   "metadata": {},
   "outputs": [],
   "source": [
    "# exporting the full songs csv, just to have\n",
    "full.to_csv('songs.csv', index=False)"
   ]
  },
  {
   "cell_type": "markdown",
   "metadata": {},
   "source": [
    "# Creating Playlists"
   ]
  },
  {
   "cell_type": "code",
   "execution_count": null,
   "metadata": {},
   "outputs": [],
   "source": [
    "full = pd.read_csv('songs.csv')"
   ]
  },
  {
   "cell_type": "markdown",
   "metadata": {},
   "source": [
    "### Getting Playlist Metadata"
   ]
  },
  {
   "cell_type": "code",
   "execution_count": null,
   "metadata": {
    "scrolled": false
   },
   "outputs": [],
   "source": [
    "playlists = glob(\"./Playlists/*\")\n",
    "pre1 = {}\n",
    "for p in playlists:\n",
    "    pre1[p] = glob(p+\"/*.csv\")[0]\n",
    "    \n",
    "descriptions = {}\n",
    "for k, v in pre1.items():\n",
    "    descriptions[k.replace('./Playlists/', '')] = pd.read_csv(v)['Description'].iloc[0]\n"
   ]
  },
  {
   "cell_type": "markdown",
   "metadata": {},
   "source": [
    "### Creating and populating playlists!!!"
   ]
  },
  {
   "cell_type": "code",
   "execution_count": null,
   "metadata": {},
   "outputs": [],
   "source": [
    "def populate_playlists(playlist):\n",
    "    \n",
    "    # the information for populating the playlists\n",
    "    tracks = full[full.Playlist == playlist].spotify_id.to_list()\n",
    "    playlist_name = playlist\n",
    "    playlist_desc = descriptions[playlist]\n",
    "    \n",
    "    # creating an empty playlist on spotify \n",
    "    new_playlist = sp.user_playlist_create(config.user, # user ID\n",
    "                                           playlist_name, \n",
    "                                           public=False, # are your playlists public/private?\n",
    "                                           collaborative=False, \n",
    "                                           description=playlist_desc)\n",
    "    # adding tracks! \n",
    "    # the API limits to adding 100 songs at a time\n",
    "    if len(tracks) <= 100:\n",
    "        results = sp.user_playlist_add_tracks(config.user, new_playlist['id'], tracks)\n",
    "    \n",
    "    else:\n",
    "        i = 0\n",
    "        while i < len(tracks):\n",
    "            results = sp.user_playlist_add_tracks(config.user, new_playlist['id'], tracks[i:i+100])\n",
    "            i += 100\n"
   ]
  },
  {
   "cell_type": "code",
   "execution_count": null,
   "metadata": {},
   "outputs": [],
   "source": [
    "# run the function!\n",
    "for p in playlists:\n",
    "    populate_playlists(p)"
   ]
  },
  {
   "cell_type": "markdown",
   "metadata": {},
   "source": [
    "## Some Documentation from Spotipy\n",
    "\n",
    "`user_playlist_create(user, name, public=True, collaborative=False, description='')`\n",
    "\n",
    "**Creates a playlist for a user**\n",
    "\n",
    "Parameters:\n",
    "* user - the id of the user\n",
    "* name - the name of the playlist\n",
    "* public - is the created playlist public\n",
    "* collaborative - is the created playlist collaborative\n",
    "* description - the description of the playlist\n",
    "\n",
    "\n",
    "\n",
    "`playlist_add_items(playlist_id, items, position=None)`\n",
    "\n",
    "**Adds tracks/episodes to a playlist**\n",
    "\n",
    "Parameters:\n",
    "* playlist_id - the id of the playlist\n",
    "* items - a list of track/episode URIs, URLs or IDs\n",
    "* position - the position to add the tracks"
   ]
  }
 ],
 "metadata": {
  "kernelspec": {
   "display_name": "Python 3",
   "language": "python",
   "name": "python3"
  },
  "language_info": {
   "codemirror_mode": {
    "name": "ipython",
    "version": 3
   },
   "file_extension": ".py",
   "mimetype": "text/x-python",
   "name": "python",
   "nbconvert_exporter": "python",
   "pygments_lexer": "ipython3",
   "version": "3.7.6"
  },
  "toc": {
   "base_numbering": 1,
   "nav_menu": {},
   "number_sections": false,
   "sideBar": true,
   "skip_h1_title": false,
   "title_cell": "Table of Contents",
   "title_sidebar": "Contents",
   "toc_cell": false,
   "toc_position": {},
   "toc_section_display": true,
   "toc_window_display": false
  }
 },
 "nbformat": 4,
 "nbformat_minor": 4
}
